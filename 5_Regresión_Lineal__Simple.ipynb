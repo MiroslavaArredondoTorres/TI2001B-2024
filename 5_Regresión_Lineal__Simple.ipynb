{
  "cells": [
    {
      "cell_type": "markdown",
      "metadata": {
        "colab_type": "text",
        "id": "view-in-github"
      },
      "source": [
        "<a href=\"https://colab.research.google.com/github/freddy-7/TI3002C/blob/main/6_Regresi%C3%B3n_Lineal__Simple.ipynb\" target=\"_parent\"><img src=\"https://colab.research.google.com/assets/colab-badge.svg\" alt=\"Open In Colab\"/></a>"
      ]
    },
    {
      "cell_type": "code",
      "execution_count": 1,
      "metadata": {
        "id": "GrstccILE1HC"
      },
      "outputs": [],
      "source": [
        "import pandas as pd\n",
        "import numpy as np\n",
        "import matplotlib.pyplot as plt\n",
        "import seaborn as sns"
      ]
    },
    {
      "cell_type": "code",
      "execution_count": 22,
      "metadata": {
        "id": "k5aPhAFvE-s6"
      },
      "outputs": [
        {
          "data": {
            "text/html": [
              "<div>\n",
              "<style scoped>\n",
              "    .dataframe tbody tr th:only-of-type {\n",
              "        vertical-align: middle;\n",
              "    }\n",
              "\n",
              "    .dataframe tbody tr th {\n",
              "        vertical-align: top;\n",
              "    }\n",
              "\n",
              "    .dataframe thead th {\n",
              "        text-align: right;\n",
              "    }\n",
              "</style>\n",
              "<table border=\"1\" class=\"dataframe\">\n",
              "  <thead>\n",
              "    <tr style=\"text-align: right;\">\n",
              "      <th></th>\n",
              "      <th>total</th>\n",
              "      <th>speeding</th>\n",
              "      <th>alcohol</th>\n",
              "      <th>not_distracted</th>\n",
              "      <th>no_previous</th>\n",
              "      <th>ins_premium</th>\n",
              "      <th>ins_losses</th>\n",
              "      <th>abbrev</th>\n",
              "    </tr>\n",
              "  </thead>\n",
              "  <tbody>\n",
              "    <tr>\n",
              "      <th>0</th>\n",
              "      <td>18.8</td>\n",
              "      <td>7.332</td>\n",
              "      <td>5.640</td>\n",
              "      <td>18.048</td>\n",
              "      <td>15.040</td>\n",
              "      <td>784.55</td>\n",
              "      <td>145.08</td>\n",
              "      <td>AL</td>\n",
              "    </tr>\n",
              "    <tr>\n",
              "      <th>1</th>\n",
              "      <td>18.1</td>\n",
              "      <td>7.421</td>\n",
              "      <td>4.525</td>\n",
              "      <td>16.290</td>\n",
              "      <td>17.014</td>\n",
              "      <td>1053.48</td>\n",
              "      <td>133.93</td>\n",
              "      <td>AK</td>\n",
              "    </tr>\n",
              "    <tr>\n",
              "      <th>2</th>\n",
              "      <td>18.6</td>\n",
              "      <td>6.510</td>\n",
              "      <td>5.208</td>\n",
              "      <td>15.624</td>\n",
              "      <td>17.856</td>\n",
              "      <td>899.47</td>\n",
              "      <td>110.35</td>\n",
              "      <td>AZ</td>\n",
              "    </tr>\n",
              "    <tr>\n",
              "      <th>3</th>\n",
              "      <td>22.4</td>\n",
              "      <td>4.032</td>\n",
              "      <td>5.824</td>\n",
              "      <td>21.056</td>\n",
              "      <td>21.280</td>\n",
              "      <td>827.34</td>\n",
              "      <td>142.39</td>\n",
              "      <td>AR</td>\n",
              "    </tr>\n",
              "    <tr>\n",
              "      <th>4</th>\n",
              "      <td>12.0</td>\n",
              "      <td>4.200</td>\n",
              "      <td>3.360</td>\n",
              "      <td>10.920</td>\n",
              "      <td>10.680</td>\n",
              "      <td>878.41</td>\n",
              "      <td>165.63</td>\n",
              "      <td>CA</td>\n",
              "    </tr>\n",
              "  </tbody>\n",
              "</table>\n",
              "</div>"
            ],
            "text/plain": [
              "   total  speeding  alcohol  not_distracted  no_previous  ins_premium  \\\n",
              "0   18.8     7.332    5.640          18.048       15.040       784.55   \n",
              "1   18.1     7.421    4.525          16.290       17.014      1053.48   \n",
              "2   18.6     6.510    5.208          15.624       17.856       899.47   \n",
              "3   22.4     4.032    5.824          21.056       21.280       827.34   \n",
              "4   12.0     4.200    3.360          10.920       10.680       878.41   \n",
              "\n",
              "   ins_losses abbrev  \n",
              "0      145.08     AL  \n",
              "1      133.93     AK  \n",
              "2      110.35     AZ  \n",
              "3      142.39     AR  \n",
              "4      165.63     CA  "
            ]
          },
          "execution_count": 22,
          "metadata": {},
          "output_type": "execute_result"
        }
      ],
      "source": [
        "#Cargar archivo csv desde seaborn\n",
        "df=sns.load_dataset(name='car_crashes')\n",
        "df.head(5)"
      ]
    },
    {
      "cell_type": "code",
      "execution_count": null,
      "metadata": {},
      "outputs": [],
      "source": [
        "#Convertir en dataframe\n",
        "df= pd.read_csv(\"car_crashes\")\n",
        "df"
      ]
    },
    {
      "cell_type": "code",
      "execution_count": null,
      "metadata": {
        "id": "KddGiGsrFDda"
      },
      "outputs": [],
      "source": [
        "#Imprimimos el scatter plot entre la variable dependiente (total) e independiente (alchool) \n",
        "#para observar el comportamiento en su dispersión \n",
        "from turtle import color\n",
        "\n",
        "\n",
        "sns.scatterplot(x='alcohol', y='total', color=\"blue\", data=df)\n",
        "#sns.scatterplot(X='speeding', y='total', color=\"red\", data=df)"
      ]
    },
    {
      "cell_type": "code",
      "execution_count": 13,
      "metadata": {
        "id": "CQ6pK0K7Fxhz"
      },
      "outputs": [],
      "source": [
        "#Declaramos las variables dependientes e independientes para la regresión lineal\n",
        "#Vars_Indep= df[['alcohol', 'speeding']]\n",
        "Vars_Indep= df[['alcohol']]\n",
        "Var_Dep= df['total']"
      ]
    },
    {
      "cell_type": "code",
      "execution_count": 10,
      "metadata": {
        "id": "LcrEBgC7F0NG"
      },
      "outputs": [],
      "source": [
        "#Se define model como la función de regresión lineal\n",
        "from sklearn.linear_model import LinearRegression\n",
        "model= LinearRegression()"
      ]
    },
    {
      "cell_type": "code",
      "execution_count": null,
      "metadata": {
        "colab": {
          "base_uri": "https://localhost:8080/"
        },
        "id": "OnjcGhIRG87V",
        "outputId": "97c8a620-5537-4ca1-9f3a-88552808bb38"
      },
      "outputs": [],
      "source": [
        "#Verificamos la función relacionada al modelo\n",
        "type(model)"
      ]
    },
    {
      "cell_type": "code",
      "execution_count": null,
      "metadata": {
        "id": "AbpkGkvOG--A"
      },
      "outputs": [],
      "source": [
        "#Ajustamos el modelo con las variables antes declaradas\n",
        "model.fit(X=Vars_Indep, y=Var_Dep)"
      ]
    },
    {
      "cell_type": "code",
      "execution_count": null,
      "metadata": {
        "colab": {
          "base_uri": "https://localhost:8080/"
        },
        "id": "IlFIDaxlHFqa",
        "outputId": "2bc8d3d6-1f00-40bf-ce29-f296fea69872"
      },
      "outputs": [],
      "source": [
        "#Verificamos los coeficientes obtenidos para el modelo ajustado\n",
        "model.__dict__"
      ]
    },
    {
      "cell_type": "markdown",
      "metadata": {
        "id": "b1Z-ob3UKjTF"
      },
      "source": [
        "**Modelo matemático: y= 2.0325063x + 5.857776154826299**\n",
        "\n",
        "---\n",
        "\n",
        "\n"
      ]
    },
    {
      "cell_type": "code",
      "execution_count": null,
      "metadata": {
        "colab": {
          "base_uri": "https://localhost:8080/"
        },
        "id": "4I8OaBFUHLmc",
        "outputId": "741ac87f-5f0c-4474-d25a-880705f9d450"
      },
      "outputs": [],
      "source": [
        "#Evaluamos la eficiencia del modelo obtenido por medio del coeficiente R Determinación\n",
        "model.score(Vars_Indep,Var_Dep)"
      ]
    },
    {
      "cell_type": "code",
      "execution_count": null,
      "metadata": {
        "id": "v3NBdGwnIR06"
      },
      "outputs": [],
      "source": [
        "#Predecimos los valores de total de accidentes a partir de la variable \"alcohol\"\n",
        "#y_pred= model.predict(X=df[['alcohol', 'speeding']])\n",
        "y_pred= model.predict(X=df[['alcohol']])\n",
        "y_pred"
      ]
    },
    {
      "cell_type": "code",
      "execution_count": null,
      "metadata": {
        "id": "wVFsrRmdH-U0"
      },
      "outputs": [],
      "source": [
        "#Insertamos la columna de predicciones en el DataFrame\n",
        "df.insert(0, 'Predicciones', y_pred)\n",
        "df"
      ]
    },
    {
      "cell_type": "code",
      "execution_count": null,
      "metadata": {
        "id": "NUtcUeaBId4W"
      },
      "outputs": [],
      "source": [
        "#Visualizamos la gráfica comparativa entre el total real y el total predecido\n",
        "\n",
        "sns.scatterplot(x='alcohol', y='total', color=\"blue\", data=df)\n",
        "sns.scatterplot(x='alcohol', y='Predicciones', color=\"red\", data=df)\n",
        "#sns.lineplot(x='alcohol', y='Predicciones', color=\"red\", data=df)"
      ]
    },
    {
      "cell_type": "code",
      "execution_count": null,
      "metadata": {
        "id": "Fhv3CfiOIjoC"
      },
      "outputs": [],
      "source": [
        "#Corroboramos cual es el coeficiente de Determinación de nuestro modelo\n",
        "coef_Deter=model.score(X=Vars_Indep, y=Var_Dep)\n",
        "coef_Deter"
      ]
    },
    {
      "cell_type": "code",
      "execution_count": 21,
      "metadata": {
        "id": "menvAyZZIl0D"
      },
      "outputs": [
        {
          "data": {
            "text/plain": [
              "0.8526132163334911"
            ]
          },
          "execution_count": 21,
          "metadata": {},
          "output_type": "execute_result"
        }
      ],
      "source": [
        "#Corroboramos cual es el coeficiente de Correlación de nuestro modelo\n",
        "coef_Correl=np.sqrt(coef_Deter)\n",
        "coef_Correl"
      ]
    },
    {
      "cell_type": "code",
      "execution_count": 23,
      "metadata": {},
      "outputs": [],
      "source": [
        "#Eliminamos la columna tipo string\n",
        "df= df.drop(['abbrev'], axis=1)"
      ]
    },
    {
      "cell_type": "code",
      "execution_count": null,
      "metadata": {
        "id": "fSQkn7IaIpdO"
      },
      "outputs": [],
      "source": [
        "#Graficamos todas las dispersiones entre todas las variables\n",
        "sns.pairplot(df)"
      ]
    },
    {
      "cell_type": "code",
      "execution_count": 25,
      "metadata": {
        "id": "81Ld8jC_JJsn"
      },
      "outputs": [
        {
          "data": {
            "text/html": [
              "<div>\n",
              "<style scoped>\n",
              "    .dataframe tbody tr th:only-of-type {\n",
              "        vertical-align: middle;\n",
              "    }\n",
              "\n",
              "    .dataframe tbody tr th {\n",
              "        vertical-align: top;\n",
              "    }\n",
              "\n",
              "    .dataframe thead th {\n",
              "        text-align: right;\n",
              "    }\n",
              "</style>\n",
              "<table border=\"1\" class=\"dataframe\">\n",
              "  <thead>\n",
              "    <tr style=\"text-align: right;\">\n",
              "      <th></th>\n",
              "      <th>total</th>\n",
              "      <th>speeding</th>\n",
              "      <th>alcohol</th>\n",
              "      <th>not_distracted</th>\n",
              "      <th>no_previous</th>\n",
              "      <th>ins_premium</th>\n",
              "      <th>ins_losses</th>\n",
              "    </tr>\n",
              "  </thead>\n",
              "  <tbody>\n",
              "    <tr>\n",
              "      <th>total</th>\n",
              "      <td>1.000000</td>\n",
              "      <td>0.611548</td>\n",
              "      <td>0.852613</td>\n",
              "      <td>0.827560</td>\n",
              "      <td>0.956179</td>\n",
              "      <td>-0.199702</td>\n",
              "      <td>-0.036011</td>\n",
              "    </tr>\n",
              "    <tr>\n",
              "      <th>speeding</th>\n",
              "      <td>0.611548</td>\n",
              "      <td>1.000000</td>\n",
              "      <td>0.669719</td>\n",
              "      <td>0.588010</td>\n",
              "      <td>0.571976</td>\n",
              "      <td>-0.077675</td>\n",
              "      <td>-0.065928</td>\n",
              "    </tr>\n",
              "    <tr>\n",
              "      <th>alcohol</th>\n",
              "      <td>0.852613</td>\n",
              "      <td>0.669719</td>\n",
              "      <td>1.000000</td>\n",
              "      <td>0.732816</td>\n",
              "      <td>0.783520</td>\n",
              "      <td>-0.170612</td>\n",
              "      <td>-0.112547</td>\n",
              "    </tr>\n",
              "    <tr>\n",
              "      <th>not_distracted</th>\n",
              "      <td>0.827560</td>\n",
              "      <td>0.588010</td>\n",
              "      <td>0.732816</td>\n",
              "      <td>1.000000</td>\n",
              "      <td>0.747307</td>\n",
              "      <td>-0.174856</td>\n",
              "      <td>-0.075970</td>\n",
              "    </tr>\n",
              "    <tr>\n",
              "      <th>no_previous</th>\n",
              "      <td>0.956179</td>\n",
              "      <td>0.571976</td>\n",
              "      <td>0.783520</td>\n",
              "      <td>0.747307</td>\n",
              "      <td>1.000000</td>\n",
              "      <td>-0.156895</td>\n",
              "      <td>-0.006359</td>\n",
              "    </tr>\n",
              "    <tr>\n",
              "      <th>ins_premium</th>\n",
              "      <td>-0.199702</td>\n",
              "      <td>-0.077675</td>\n",
              "      <td>-0.170612</td>\n",
              "      <td>-0.174856</td>\n",
              "      <td>-0.156895</td>\n",
              "      <td>1.000000</td>\n",
              "      <td>0.623116</td>\n",
              "    </tr>\n",
              "    <tr>\n",
              "      <th>ins_losses</th>\n",
              "      <td>-0.036011</td>\n",
              "      <td>-0.065928</td>\n",
              "      <td>-0.112547</td>\n",
              "      <td>-0.075970</td>\n",
              "      <td>-0.006359</td>\n",
              "      <td>0.623116</td>\n",
              "      <td>1.000000</td>\n",
              "    </tr>\n",
              "  </tbody>\n",
              "</table>\n",
              "</div>"
            ],
            "text/plain": [
              "                   total  speeding   alcohol  not_distracted  no_previous  \\\n",
              "total           1.000000  0.611548  0.852613        0.827560     0.956179   \n",
              "speeding        0.611548  1.000000  0.669719        0.588010     0.571976   \n",
              "alcohol         0.852613  0.669719  1.000000        0.732816     0.783520   \n",
              "not_distracted  0.827560  0.588010  0.732816        1.000000     0.747307   \n",
              "no_previous     0.956179  0.571976  0.783520        0.747307     1.000000   \n",
              "ins_premium    -0.199702 -0.077675 -0.170612       -0.174856    -0.156895   \n",
              "ins_losses     -0.036011 -0.065928 -0.112547       -0.075970    -0.006359   \n",
              "\n",
              "                ins_premium  ins_losses  \n",
              "total             -0.199702   -0.036011  \n",
              "speeding          -0.077675   -0.065928  \n",
              "alcohol           -0.170612   -0.112547  \n",
              "not_distracted    -0.174856   -0.075970  \n",
              "no_previous       -0.156895   -0.006359  \n",
              "ins_premium        1.000000    0.623116  \n",
              "ins_losses         0.623116    1.000000  "
            ]
          },
          "execution_count": 25,
          "metadata": {},
          "output_type": "execute_result"
        }
      ],
      "source": [
        "#Encontramos todas las correlaciones entre las variables \n",
        "Corr_Factors=df.corr()\n",
        "Corr_Factors"
      ]
    },
    {
      "cell_type": "code",
      "execution_count": 26,
      "metadata": {
        "id": "slTiwKa0JMcT"
      },
      "outputs": [
        {
          "data": {
            "text/html": [
              "<div>\n",
              "<style scoped>\n",
              "    .dataframe tbody tr th:only-of-type {\n",
              "        vertical-align: middle;\n",
              "    }\n",
              "\n",
              "    .dataframe tbody tr th {\n",
              "        vertical-align: top;\n",
              "    }\n",
              "\n",
              "    .dataframe thead th {\n",
              "        text-align: right;\n",
              "    }\n",
              "</style>\n",
              "<table border=\"1\" class=\"dataframe\">\n",
              "  <thead>\n",
              "    <tr style=\"text-align: right;\">\n",
              "      <th></th>\n",
              "      <th>total</th>\n",
              "      <th>speeding</th>\n",
              "      <th>alcohol</th>\n",
              "      <th>not_distracted</th>\n",
              "      <th>no_previous</th>\n",
              "      <th>ins_premium</th>\n",
              "      <th>ins_losses</th>\n",
              "    </tr>\n",
              "  </thead>\n",
              "  <tbody>\n",
              "    <tr>\n",
              "      <th>total</th>\n",
              "      <td>1.000000</td>\n",
              "      <td>0.611548</td>\n",
              "      <td>0.852613</td>\n",
              "      <td>0.827560</td>\n",
              "      <td>0.956179</td>\n",
              "      <td>0.199702</td>\n",
              "      <td>0.036011</td>\n",
              "    </tr>\n",
              "    <tr>\n",
              "      <th>speeding</th>\n",
              "      <td>0.611548</td>\n",
              "      <td>1.000000</td>\n",
              "      <td>0.669719</td>\n",
              "      <td>0.588010</td>\n",
              "      <td>0.571976</td>\n",
              "      <td>0.077675</td>\n",
              "      <td>0.065928</td>\n",
              "    </tr>\n",
              "    <tr>\n",
              "      <th>alcohol</th>\n",
              "      <td>0.852613</td>\n",
              "      <td>0.669719</td>\n",
              "      <td>1.000000</td>\n",
              "      <td>0.732816</td>\n",
              "      <td>0.783520</td>\n",
              "      <td>0.170612</td>\n",
              "      <td>0.112547</td>\n",
              "    </tr>\n",
              "    <tr>\n",
              "      <th>not_distracted</th>\n",
              "      <td>0.827560</td>\n",
              "      <td>0.588010</td>\n",
              "      <td>0.732816</td>\n",
              "      <td>1.000000</td>\n",
              "      <td>0.747307</td>\n",
              "      <td>0.174856</td>\n",
              "      <td>0.075970</td>\n",
              "    </tr>\n",
              "    <tr>\n",
              "      <th>no_previous</th>\n",
              "      <td>0.956179</td>\n",
              "      <td>0.571976</td>\n",
              "      <td>0.783520</td>\n",
              "      <td>0.747307</td>\n",
              "      <td>1.000000</td>\n",
              "      <td>0.156895</td>\n",
              "      <td>0.006359</td>\n",
              "    </tr>\n",
              "    <tr>\n",
              "      <th>ins_premium</th>\n",
              "      <td>0.199702</td>\n",
              "      <td>0.077675</td>\n",
              "      <td>0.170612</td>\n",
              "      <td>0.174856</td>\n",
              "      <td>0.156895</td>\n",
              "      <td>1.000000</td>\n",
              "      <td>0.623116</td>\n",
              "    </tr>\n",
              "    <tr>\n",
              "      <th>ins_losses</th>\n",
              "      <td>0.036011</td>\n",
              "      <td>0.065928</td>\n",
              "      <td>0.112547</td>\n",
              "      <td>0.075970</td>\n",
              "      <td>0.006359</td>\n",
              "      <td>0.623116</td>\n",
              "      <td>1.000000</td>\n",
              "    </tr>\n",
              "  </tbody>\n",
              "</table>\n",
              "</div>"
            ],
            "text/plain": [
              "                   total  speeding   alcohol  not_distracted  no_previous  \\\n",
              "total           1.000000  0.611548  0.852613        0.827560     0.956179   \n",
              "speeding        0.611548  1.000000  0.669719        0.588010     0.571976   \n",
              "alcohol         0.852613  0.669719  1.000000        0.732816     0.783520   \n",
              "not_distracted  0.827560  0.588010  0.732816        1.000000     0.747307   \n",
              "no_previous     0.956179  0.571976  0.783520        0.747307     1.000000   \n",
              "ins_premium     0.199702  0.077675  0.170612        0.174856     0.156895   \n",
              "ins_losses      0.036011  0.065928  0.112547        0.075970     0.006359   \n",
              "\n",
              "                ins_premium  ins_losses  \n",
              "total              0.199702    0.036011  \n",
              "speeding           0.077675    0.065928  \n",
              "alcohol            0.170612    0.112547  \n",
              "not_distracted     0.174856    0.075970  \n",
              "no_previous        0.156895    0.006359  \n",
              "ins_premium        1.000000    0.623116  \n",
              "ins_losses         0.623116    1.000000  "
            ]
          },
          "execution_count": 26,
          "metadata": {},
          "output_type": "execute_result"
        }
      ],
      "source": [
        "#Encontramos el valor absoluto de todas las correlaciones entre las variables \n",
        "Corr_Factors1= abs(Corr_Factors)\n",
        "Corr_Factors1"
      ]
    },
    {
      "cell_type": "code",
      "execution_count": 31,
      "metadata": {
        "id": "30iJQIjgJR2W"
      },
      "outputs": [
        {
          "data": {
            "text/plain": [
              "<Axes: >"
            ]
          },
          "execution_count": 31,
          "metadata": {},
          "output_type": "execute_result"
        },
        {
          "data": {
            "image/png": "[encoded data removed]",
            "text/plain": [
              "<Figure size 640x480 with 2 Axes>"
            ]
          },
          "metadata": {},
          "output_type": "display_data"
        }
      ],
      "source": [
        "#Graficamos el mapa de calor de los coeficientes de correlación \n",
        "Heat_Map= sns.heatmap(Corr_Factors1, cmap = 'coolwarm')  \n",
        "Heat_Map"
      ]
    },
    {
      "cell_type": "code",
      "execution_count": 35,
      "metadata": {
        "id": "DrrnBWIpJUu2"
      },
      "outputs": [
        {
          "data": {
            "text/plain": [
              "<Axes: >"
            ]
          },
          "execution_count": 35,
          "metadata": {},
          "output_type": "execute_result"
        },
        {
          "data": {
            "image/png": "[encoded data removed]",
            "text/plain": [
              "<Figure size 640x480 with 2 Axes>"
            ]
          },
          "metadata": {},
          "output_type": "display_data"
        }
      ],
      "source": [
        "#Ajustamos el mapa de calor de los coeficientes de correlación \n",
        "Heat_Map= sns.heatmap(Corr_Factors1, cmap = 'YlGnBu', annot=True, fmt=\".2f\")  \n",
        "Heat_Map"
      ]
    }
  ],
  "metadata": {
    "colab": {
      "authorship_tag": "ABX9TyMVNvN3rJ6tdwYvpyj5r4Ok",
      "include_colab_link": true,
      "provenance": []
    },
    "kernelspec": {
      "display_name": "Python 3",
      "name": "python3"
    },
    "language_info": {
      "codemirror_mode": {
        "name": "ipython",
        "version": 3
      },
      "file_extension": ".py",
      "mimetype": "text/x-python",
      "name": "python",
      "nbconvert_exporter": "python",
      "pygments_lexer": "ipython3",
      "version": "3.12.4"
    }
  },
  "nbformat": 4,
  "nbformat_minor": 0
}
